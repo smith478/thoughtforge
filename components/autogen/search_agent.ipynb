{
 "cells": [
  {
   "cell_type": "code",
   "execution_count": null,
   "id": "b020fc96-2e5f-4aa4-9121-2a408547fb3a",
   "metadata": {},
   "outputs": [],
   "source": [
    "from autogen import AssistantAgent, UserProxyAgent"
   ]
  },
  {
   "cell_type": "code",
   "execution_count": null,
   "id": "eccc725d-e357-4caf-ad2f-7278605782f2",
   "metadata": {},
   "outputs": [],
   "source": [
    "# Configuration for Ollama\n",
    "config_list = [\n",
    "    {\n",
    "        \"model\": \"qwen2.5:latest\",\n",
    "        \"base_url\": \"http://localhost:11434/v1/\",\n",
    "        \"api_key\": \"ollama\", \n",
    "    }\n",
    "]\n",
    "\n",
    "# Create agents\n",
    "assistant = AssistantAgent(\n",
    "    name=\"assistant\",\n",
    "    llm_config={\n",
    "        \"seed\": 42,\n",
    "        \"config_list\": config_list,\n",
    "        \"temperature\": 0.4,\n",
    "    },\n",
    "    is_termination_msg=lambda x: True if \"TERMINATE\" in x.get(\"content\") else False,\n",
    ")\n",
    "\n",
    "user_proxy = UserProxyAgent(\n",
    "    name=\"user_proxy\",\n",
    "    is_termination_msg=lambda x: True if \"TERMINATE\" in x.get(\"content\") else False,\n",
    "    max_consecutive_auto_reply=10,\n",
    "    human_input_mode=\"NEVER\",\n",
    "    code_execution_config={\n",
    "        \"work_dir\": \"coding\",\n",
    "        \"use_docker\": False,\n",
    "    },\n",
    ")"
   ]
  },
  {
   "cell_type": "code",
   "execution_count": null,
   "id": "170e7fc7-c595-48b0-b01b-b141936cd5b3",
   "metadata": {},
   "outputs": [],
   "source": [
    "CLINICAL_QUESTION = \"What is the prognosis for hemangiosaracoma in dogs?\"\n",
    "TASK_1 = f\"Find research papers to help answer the following question: {CLINICAL_QUESTION}\"\n",
    "TASK_2 = \"Execute code to fetch a list of the top 10 to 20 papers that are most relevant to the question.\"\n",
    "TASK_3 = f\"Sythesize the information from the papers and provide an answer to: {CLINICAL_QUESTION}. Provide references (as links) from the papers.\"\n",
    "TASK_4 = \"\"\"Reflect on the sequence and create a recipe containing all of the steps necessary and name for it. Suggest well-documented, generalized Python function(s) to perform similar tasks for coding steps in the future. Make sure coding and non-coding steps are never mixed in one function. In the docstring of the function(s), clarify what non-coding steps are needed to use the language skill of the assistant.\"\"\""
   ]
  },
  {
   "cell_type": "code",
   "execution_count": null,
   "id": "11e44a11-37bf-4f21-8e1e-74939ed3c64f",
   "metadata": {},
   "outputs": [],
   "source": [
    "# Start looking for research papers\n",
    "user_proxy.initiate_chat(\n",
    "    assistant,\n",
    "    message=TASK_1\n",
    ")"
   ]
  },
  {
   "cell_type": "code",
   "execution_count": null,
   "id": "358fc2f0-eb40-4b88-b587-006a5916b692",
   "metadata": {},
   "outputs": [],
   "source": [
    "import requests\n",
    "from bs4 import BeautifulSoup\n",
    "\n",
    "# Define the search query\n",
    "query = \"prognosis hemangiosarcoma dogs\"\n",
    "\n",
    "# Format the query for URL\n",
    "url = f\"https://scholar.google.com/scholar?q={query.replace(' ', '+')}\"\n",
    "\n",
    "# Send a request to the Google Scholar search page\n",
    "response = requests.get(url)\n",
    "\n",
    "# Check if the request was successful\n",
    "if response.status_code == 200:\n",
    "    # Parse the HTML content using BeautifulSoup\n",
    "    soup = BeautifulSoup(response.content, 'html.parser')\n",
    "    \n",
    "    # Find and print the titles of relevant papers\n",
    "    paper_titles = soup.find_all('h3', class_='gs_rt')\n",
    "    for title in paper_titles[:5]:  # Print first 5 results\n",
    "        print(title.get_text())\n",
    "else:\n",
    "    print(f\"Failed to retrieve data, status code: {response.status_code}\")"
   ]
  },
  {
   "cell_type": "code",
   "execution_count": null,
   "id": "09902bf1-97ee-47a0-aff2-2d75e29e5e92",
   "metadata": {},
   "outputs": [],
   "source": []
  }
 ],
 "metadata": {
  "kernelspec": {
   "display_name": "Python 3 (ipykernel)",
   "language": "python",
   "name": "python3"
  },
  "language_info": {
   "codemirror_mode": {
    "name": "ipython",
    "version": 3
   },
   "file_extension": ".py",
   "mimetype": "text/x-python",
   "name": "python",
   "nbconvert_exporter": "python",
   "pygments_lexer": "ipython3",
   "version": "3.11.11"
  }
 },
 "nbformat": 4,
 "nbformat_minor": 5
}
